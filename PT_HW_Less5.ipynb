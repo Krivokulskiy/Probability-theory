{
 "cells": [
  {
   "cell_type": "code",
   "execution_count": 5,
   "metadata": {},
   "outputs": [],
   "source": [
    "import math\n",
    "import numpy as np"
   ]
  },
  {
   "cell_type": "markdown",
   "metadata": {},
   "source": [
    "дачи 1,2 -искать доверительный интервал; задачи 3,4 - решать через тестирование гипотезы\n",
    "\n",
    "1.Известно, что генеральная совокупность распределена нормально со средним квадратическим отклонением, равным 16. \n",
    "Найти доверительный интервал для оценки математического ожидания a с надежностью 0.95, если выборочная средняя M = 80, а объем выборки n = 256.\n",
    "Из задачи следует, что:\n",
    "sgm= 16\n",
    "X=80, n=256, Доверительный Интервал 0,95%, следовательно (1-a)/2((1-0,95)/2)=0,25, следовательно z=1,96\n",
    "Находим доверительный интервал:"
   ]
  },
  {
   "cell_type": "code",
   "execution_count": 6,
   "metadata": {},
   "outputs": [
    {
     "name": "stdout",
     "output_type": "stream",
     "text": [
      "Получаем интервал от 78.04 до 81.96\n"
     ]
    }
   ],
   "source": [
    "X=80\n",
    "n=256\n",
    "sgm=16\n",
    "k=0.25\n",
    "z=1.96\n",
    "\n",
    "Interval1=X-(z*sgm/math.sqrt(n))\n",
    "Interval12=X+(z*sgm/math.sqrt(n))\n",
    "print ('Получаем интервал от', Interval1, 'до', Interval12)\n"
   ]
  },
  {
   "cell_type": "markdown",
   "metadata": {},
   "source": [
    "2.В результате 10 независимых измерений некоторой величины X, выполненных с одинаковой точностью, получены опытные данные: 6.9, 6.1, 6.2, 6.8, 7.5, 6.3, 6.4, 6.9, 6.7, 6.1 Предполагая, что результаты измерений подчинены нормальному закону распределения вероятностей, оценить истинное значение величины X при помощи доверительного интервала, покрывающего это значение с доверительной вероятностью 0,95.\n",
    "    "
   ]
  },
  {
   "cell_type": "code",
   "execution_count": 28,
   "metadata": {},
   "outputs": [
    {
     "name": "stdout",
     "output_type": "stream",
     "text": [
      "std: 0.4508017549014448 Mu: 6.590000000000001 интервал: 6.267538255912426 6.912461744087575\n"
     ]
    }
   ],
   "source": [
    "n=10\n",
    "B=0.05\n",
    "dataset=np.array([6.9,6.1,6.2,6.8,7.5,6.3,6.4,6.9,6.7,6.1])\n",
    "Mu=dataset.mean()\n",
    "std=(dataset.var(ddof=1))**0.5\n",
    "t=2.262\n",
    "X1=Mu+t*std/math.sqrt(n)\n",
    "X2=Mu-t*std/math.sqrt(n)\n",
    "print ('std:',std, 'Mu:',Mu,'интервал:',X2,X1)"
   ]
  },
  {
   "cell_type": "markdown",
   "metadata": {},
   "source": [
    "3. Утверждается, что шарики для подшипников, изготовленные автоматическим станком, имеют средний диаметр 17 мм.\n",
    "Используя односторонний критерий с α=0,05, проверить эту гипотезу, если в выборке из n=100 шариков средний диаметр\n",
    "оказался равным 17.5 мм, а дисперсия известна и равна 4 кв. мм."
   ]
  },
  {
   "cell_type": "markdown",
   "metadata": {},
   "source": [
    "Так как MuH1>MuH0 то значит математичекое ожидание (MuH1) для гипотизы H1 находится правее чем MuH1. Так как нам известна дисперсия, которая равна 4, то квадратичное отклонение есть SQRT(4)=2. Поскольку дисперсия и среднее квадратичное отклонение известны, то мы используем z критерий, который для 5% будет составлять 1,65."
   ]
  },
  {
   "cell_type": "code",
   "execution_count": 3,
   "metadata": {},
   "outputs": [],
   "source": [
    "MuH0 = 17\n",
    "alpha=0.05\n",
    "n=100\n",
    "MuH1 = 17.5\n",
    "Dx=4"
   ]
  },
  {
   "cell_type": "code",
   "execution_count": 4,
   "metadata": {},
   "outputs": [
    {
     "name": "stdout",
     "output_type": "stream",
     "text": [
      "2.5\n"
     ]
    }
   ],
   "source": [
    "Zn=(MuH1-MuH0)/(2/math.sqrt(n))\n",
    "print (Zn)"
   ]
  },
  {
   "cell_type": "markdown",
   "metadata": {},
   "source": [
    "2,5>1,65 следовательно гипотиза H1 верна."
   ]
  },
  {
   "cell_type": "markdown",
   "metadata": {},
   "source": [
    "4.Продавец утверждает, что средний вес пачки печенья составляет 200 г. Из партии извлечена выборка из 10 пачек. Вес каждой пачки составляет: 202, 203, 199, 197, 195, 201, 200, 204, 194, 190. Известно, что их веса распределены нормально. Верно ли утверждение продавца, если учитывать, что доверительная вероятность равна 99%?"
   ]
  },
  {
   "cell_type": "code",
   "execution_count": 40,
   "metadata": {},
   "outputs": [
    {
     "name": "stdout",
     "output_type": "stream",
     "text": [
      "std: 4.453463071962462 MuH1: 198.5 MuH0: 200 t: -0.10651074037450894\n"
     ]
    }
   ],
   "source": [
    "data= np.array([202,203,199,197,195,201,200,204,194,190])\n",
    "B=0.01\n",
    "n=10\n",
    "std=(data.var(ddof=1))**0.5\n",
    "T1=-3.25\n",
    "T2=3.25\n",
    "MuH1=data.mean()\n",
    "MuH0=200\n",
    "t=(MuH1-MuH0)/std/math.sqrt(n)\n",
    "print ('std:',std, 'MuH1:',MuH1, 'MuH0:', MuH0, 't:',t)\n",
    "Так как T2>t>T1 то гепотиза Н0 является верной."
   ]
  },
  {
   "cell_type": "code",
   "execution_count": null,
   "metadata": {},
   "outputs": [],
   "source": []
  }
 ],
 "metadata": {
  "kernelspec": {
   "display_name": "Python 3",
   "language": "python",
   "name": "python3"
  },
  "language_info": {
   "codemirror_mode": {
    "name": "ipython",
    "version": 3
   },
   "file_extension": ".py",
   "mimetype": "text/x-python",
   "name": "python",
   "nbconvert_exporter": "python",
   "pygments_lexer": "ipython3",
   "version": "3.7.3"
  }
 },
 "nbformat": 4,
 "nbformat_minor": 2
}
