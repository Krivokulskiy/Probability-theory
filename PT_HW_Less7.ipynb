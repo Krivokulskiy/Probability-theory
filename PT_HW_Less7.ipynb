{
 "cells": [
  {
   "cell_type": "code",
   "execution_count": 1,
   "metadata": {},
   "outputs": [],
   "source": []
  },
  {
   "cell_type": "markdown",
   "metadata": {},
   "source": [
    "   Даны значения величины заработной платы заемщиков банка (zp) и значения их поведенческого кредитного скоринга (ks): zp = [35, 45, 190, 200, 40, 70, 54, 150, 120, 110], ks = [401, 574, 874, 919, 459, 739, 653, 902, 746, 832]. Используя математические операции, посчитать коэффициенты линейной регрессии, приняв за X заработную плату (то есть, zp - признак), а за y - значения скорингового балла (то есть, ks - целевая переменная). Произвести расчет как с использованием intercept, так и без."
   ]
  },
  {
   "cell_type": "code",
   "execution_count": 69,
   "metadata": {},
   "outputs": [],
   "source": [
    "import numpy as np\n",
    "import matplotlib.pyplot as plt\n",
    "%matplotlib inline"
   ]
  },
  {
   "cell_type": "code",
   "execution_count": 70,
   "metadata": {},
   "outputs": [],
   "source": [
    "zp=np.array([35,45,190,200,40,70,54,150,120,110])\n",
    "ks=np.array([401,574,874,919,459,739,653,902,746,832])\n",
    "X=zp\n",
    "Y=ks"
   ]
  },
  {
   "cell_type": "code",
   "execution_count": 71,
   "metadata": {},
   "outputs": [
    {
     "data": {
      "text/plain": [
       "array([ 35,  45, 190, 200,  40,  70,  54, 150, 120, 110])"
      ]
     },
     "execution_count": 71,
     "metadata": {},
     "output_type": "execute_result"
    }
   ],
   "source": [
    "X"
   ]
  },
  {
   "cell_type": "code",
   "execution_count": 72,
   "metadata": {},
   "outputs": [
    {
     "data": {
      "text/plain": [
       "array([401, 574, 874, 919, 459, 739, 653, 902, 746, 832])"
      ]
     },
     "execution_count": 72,
     "metadata": {},
     "output_type": "execute_result"
    }
   ],
   "source": [
    "Y"
   ]
  },
  {
   "cell_type": "markdown",
   "metadata": {},
   "source": [
    " Найдем значение $ {\\overline{y}}$ и ${\\overline{x}}$, используя формулы: $\\overline{x} = \\frac{1}{n} \\sum\\limits_{i=1}^{n} x_i$ и $\\overline{y} = \\frac{1}{n} \\sum\\limits_{i=1}^{n} y_i$\n",
    "Получаем: ${\\overline{x}}=101.4$, $ {\\overline{y}}=709.9$"
   ]
  },
  {
   "cell_type": "code",
   "execution_count": 73,
   "metadata": {},
   "outputs": [
    {
     "data": {
      "text/plain": [
       "101.4"
      ]
     },
     "execution_count": 73,
     "metadata": {},
     "output_type": "execute_result"
    }
   ],
   "source": [
    "X_mean=X.mean()\n",
    "X_mean"
   ]
  },
  {
   "cell_type": "code",
   "execution_count": 74,
   "metadata": {},
   "outputs": [
    {
     "data": {
      "text/plain": [
       "709.9"
      ]
     },
     "execution_count": 74,
     "metadata": {},
     "output_type": "execute_result"
    }
   ],
   "source": [
    "Y_mean=Y.mean()\n",
    "Y_mean"
   ]
  },
  {
   "cell_type": "markdown",
   "metadata": {},
   "source": [
    "Найдем $b$ по формуле $b = \\frac{\\overline{yx} - \\overline{y} \\cdot {\\overline{x}}}{\\overline{x^2} - (\\overline{x})^2};$ получаем: $b = 2.620538882402765$"
   ]
  },
  {
   "cell_type": "code",
   "execution_count": 75,
   "metadata": {},
   "outputs": [
    {
     "data": {
      "text/plain": [
       "2.620538882402765"
      ]
     },
     "execution_count": 75,
     "metadata": {},
     "output_type": "execute_result"
    }
   ],
   "source": [
    "b=((Y*X).mean()-Y_mean*X_mean)/((X**2).mean()-X_mean**2)\n",
    "b"
   ]
  },
  {
   "cell_type": "markdown",
   "metadata": {},
   "source": [
    "Находим $a$ по формуле: $ a = \\overline{y} - b \\cdot {\\overline{x}};$ получаем $ a= 444.1773573243596 $"
   ]
  },
  {
   "cell_type": "code",
   "execution_count": 76,
   "metadata": {},
   "outputs": [
    {
     "data": {
      "text/plain": [
       "444.1773573243596"
      ]
     },
     "execution_count": 76,
     "metadata": {},
     "output_type": "execute_result"
    }
   ],
   "source": [
    "a=Y_mean-b*X_mean\n",
    "a"
   ]
  },
  {
   "cell_type": "code",
   "execution_count": 77,
   "metadata": {},
   "outputs": [
    {
     "data": {
      "text/plain": [
       "array([535.89621821, 562.10160703, 942.07974498, 968.2851338 ,\n",
       "       548.99891262, 627.61507909, 585.68645697, 837.25818968,\n",
       "       758.64202321, 732.43663439])"
      ]
     },
     "execution_count": 77,
     "metadata": {},
     "output_type": "execute_result"
    }
   ],
   "source": [
    "Y_hat=a+b*X\n",
    "Y_hat"
   ]
  },
  {
   "cell_type": "markdown",
   "metadata": {},
   "source": [
    "Построем графики Y и Y_hat"
   ]
  },
  {
   "cell_type": "code",
   "execution_count": 80,
   "metadata": {},
   "outputs": [
    {
     "data": {
      "image/png": "[encoded data removed]",
      "text/plain": [
       "<Figure size 432x288 with 1 Axes>"
      ]
     },
     "metadata": {
      "needs_background": "light"
     },
     "output_type": "display_data"
    }
   ],
   "source": [
    "plt.scatter(X,Y)\n",
    "plt.plot(X,Y_hat)\n",
    "plt.show()"
   ]
  },
  {
   "cell_type": "code",
   "execution_count": null,
   "metadata": {},
   "outputs": [],
   "source": [
    "Найдем коэффициент корреляции: r и коэффициент детерминации R"
   ]
  },
  {
   "cell_type": "code",
   "execution_count": 84,
   "metadata": {},
   "outputs": [],
   "source": [
    "r= b * np.std(X) / np.std(Y)\n",
    "R=r**2"
   ]
  },
  {
   "cell_type": "code",
   "execution_count": 85,
   "metadata": {},
   "outputs": [
    {
     "data": {
      "text/plain": [
       "0.8874900920739162"
      ]
     },
     "execution_count": 85,
     "metadata": {},
     "output_type": "execute_result"
    }
   ],
   "source": [
    "r"
   ]
  },
  {
   "cell_type": "code",
   "execution_count": 86,
   "metadata": {},
   "outputs": [
    {
     "data": {
      "text/plain": [
       "0.7876386635293682"
      ]
     },
     "execution_count": 86,
     "metadata": {},
     "output_type": "execute_result"
    }
   ],
   "source": [
    "R"
   ]
  },
  {
   "cell_type": "markdown",
   "metadata": {},
   "source": [
    "Посчитать коэффициент линейной регрессии при заработной плате (zp), используя градиентный спуск (без intercept).\n",
    "В каких случаях для вычисления доверительных интервалов и проверки статистических гипотез используется таблица значений функции Лапласа, а в каких - таблица критических точек распределения Стьюдента?"
   ]
  },
  {
   "cell_type": "code",
   "execution_count": 90,
   "metadata": {},
   "outputs": [],
   "source": [
    "alpha=1e-6"
   ]
  },
  {
   "cell_type": "code",
   "execution_count": 98,
   "metadata": {},
   "outputs": [],
   "source": [
    "def mse_ (b, x=X, y=Y, n=len(X)):\n",
    "    return np.sum((b*x-y)**2)/n    "
   ]
  },
  {
   "cell_type": "code",
   "execution_count": 127,
   "metadata": {},
   "outputs": [
    {
     "name": "stdout",
     "output_type": "stream",
     "text": [
      "b={} 0.2994101\n",
      "b={} 5.8898204201326765\n",
      "b={} 5.8898204201326765\n",
      "b={} 5.8898204201326765\n",
      "b={} 5.8898204201326765\n",
      "b={} 5.8898204201326765\n",
      "b={} 5.8898204201326765\n",
      "b={} 5.8898204201326765\n",
      "b={} 5.8898204201326765\n",
      "b={} 5.8898204201326765\n"
     ]
    }
   ],
   "source": [
    "b=0.1\n",
    "n=8\n",
    "for i in range(10000):\n",
    "    b -=alpha*(2/n)*np.sum((b*X-Y)*X)\n",
    "    if i%1000 ==0:\n",
    "        print('b={}', format(b))"
   ]
  },
  {
   "cell_type": "markdown",
   "metadata": {},
   "source": [
    "*. Произвести вычисления как в пункте 2, но с вычислением intercept. Учесть, что изменение коэффициентов должно производиться на каждом шаге одновременно (то есть изменение одного коэффициента не должно влиять на изменение другого во время одной итерации)."
   ]
  },
  {
   "cell_type": "markdown",
   "metadata": {},
   "source": [
    "Представляется следующее решение. Так как имеется два парамета a(B0) и и(B1), то линейная функция получит вид Y_hat=B0+B1*X. Для нахождения каждого из парамеров необходимо найти две производных по B0 и B1 соответственно. Для B1 производная 2/n * (B0+B1*x-y)*x; для B0 производная 2/n * (B0 + B1*x-y)."
   ]
  },
  {
   "cell_type": "code",
   "execution_count": 223,
   "metadata": {},
   "outputs": [
    {
     "name": "stdout",
     "output_type": "stream",
     "text": [
      "b= 0.29938475, c= 0.10174915000000001\n",
      "b= 20.23785975000001, c= 0.27666415000000005\n",
      "b= 40.17633475000002, c= 0.45157914999999776\n",
      "b= 60.11480975000003, c= 0.6264941499999955\n",
      "b= 80.05328474999946, c= 0.8014091499999932\n",
      "b= 99.99175974999876, c= 0.976324149999991\n",
      "b= 119.93023474999806, c= 1.1512391499999888\n",
      "b= 139.8687097499982, c= 1.3261541499999865\n",
      "b= 159.80718474999892, c= 1.5010691499999842\n",
      "b= 179.74565974999965, c= 1.675984149999982\n",
      "b= 199.68413475000037, c= 1.8508991499999796\n",
      "b= 219.6226097500011, c= 2.0258141499999804\n",
      "b= 239.5610847500018, c= 2.2007291500000004\n",
      "b= 259.49955975000205, c= 2.3756441500000203\n",
      "b= 279.43803474999993, c= 2.55055915000004\n",
      "b= 299.3765097499978, c= 2.72547415000006\n",
      "b= 319.3149847499957, c= 2.90038915000008\n",
      "b= 339.25345974999357, c= 3.0753041500001\n",
      "b= 359.19193474999145, c= 3.25021915000012\n",
      "b= 379.1304097499893, c= 3.4251341500001398\n",
      "b= 399.0688847499872, c= 3.6000491500001597\n",
      "b= 419.0073597499851, c= 3.7749641500001796\n",
      "b= 438.94583474998296, c= 3.9498791500001995\n",
      "b= 458.88430974998084, c= 4.124794150000219\n",
      "b= 478.8227847499787, c= 4.299709150000239\n",
      "b= 498.7612597499766, c= 4.474624150000259\n",
      "b= 518.6997347499764, c= 4.649539150000279\n",
      "b= 538.63820974998, c= 4.824454150000299\n",
      "b= 558.5766847499835, c= 4.999369150000319\n",
      "b= 578.5151597499871, c= 5.1742841500003385\n",
      "b= 598.4536347499907, c= 5.349199150000358\n",
      "b= 618.3921097499942, c= 5.524114150000378\n",
      "b= 638.3305847499978, c= 5.699029150000398\n",
      "b= 658.2690597500014, c= 5.873944150000418\n",
      "b= 678.2075347500049, c= 6.048859150000438\n",
      "b= 698.1460097500085, c= 6.223774150000458\n",
      "b= 718.084484750012, c= 6.398689150000478\n",
      "b= 738.0229597500156, c= 6.573604150000498\n",
      "b= 757.9614347500192, c= 6.748519150000518\n",
      "b= 777.8999097500227, c= 6.923434150000538\n",
      "b= 797.8383847500263, c= 7.0983491500005576\n",
      "b= 817.7768597500299, c= 7.2732641500005775\n",
      "b= 837.7153347500334, c= 7.448179150000597\n",
      "b= 857.653809750037, c= 7.623094150000617\n",
      "b= 877.5922847500406, c= 7.798009150000637\n",
      "b= 897.5307597500441, c= 7.972924150000657\n",
      "b= 917.4692347500477, c= 8.147839150000676\n",
      "b= 937.4077097500513, c= 8.322754150000696\n",
      "b= 957.3461847500548, c= 8.497669150000716\n",
      "b= 977.2846597500584, c= 8.672584150000736\n",
      "b= 997.223134750062, c= 8.847499150000756\n",
      "b= 1017.1616097500655, c= 9.022414150000776\n",
      "b= 1037.100084750069, c= 9.197329150000796\n",
      "b= 1057.0385597500726, c= 9.372244150000816\n",
      "b= 1076.9770347500762, c= 9.547159150000835\n",
      "b= 1096.9155097500798, c= 9.722074150000855\n",
      "b= 1116.8539847500833, c= 9.896989150000875\n",
      "b= 1136.792459750087, c= 10.071904150000895\n",
      "b= 1156.7309347500905, c= 10.246819150000915\n",
      "b= 1176.669409750094, c= 10.421734150000935\n",
      "b= 1196.6078847500976, c= 10.596649150000955\n",
      "b= 1216.5463597501011, c= 10.771564150000975\n",
      "b= 1236.4848347501047, c= 10.946479150000995\n",
      "b= 1256.4233097501083, c= 11.121394150001015\n",
      "b= 1276.3617847501118, c= 11.296309150001035\n",
      "b= 1296.3002597501154, c= 11.471224150001055\n",
      "b= 1316.238734750119, c= 11.646139150001074\n",
      "b= 1336.1772097501225, c= 11.821054150001094\n",
      "b= 1356.115684750126, c= 11.995969150001114\n",
      "b= 1376.0541597501297, c= 12.170884150001134\n",
      "b= 1395.9926347501332, c= 12.345799150001154\n",
      "b= 1415.9311097501368, c= 12.520714150001174\n",
      "b= 1435.8695847501403, c= 12.695629150001194\n",
      "b= 1455.808059750144, c= 12.870544150001214\n",
      "b= 1475.7465347501475, c= 13.045459150001234\n",
      "b= 1495.685009750151, c= 13.220374150001254\n",
      "b= 1515.6234847501546, c= 13.395289150001274\n",
      "b= 1535.5619597501582, c= 13.570204150001294\n",
      "b= 1555.5004347501617, c= 13.745119150001313\n",
      "b= 1575.4389097501653, c= 13.920034150001333\n",
      "b= 1595.3773847501689, c= 14.094949150001353\n",
      "b= 1615.3158597501724, c= 14.269864150001373\n",
      "b= 1635.254334750176, c= 14.444779150001393\n",
      "b= 1655.1928097501795, c= 14.619694150001413\n",
      "b= 1675.131284750183, c= 14.794609150001433\n",
      "b= 1695.0697597501867, c= 14.969524150001453\n",
      "b= 1715.0082347501902, c= 15.144439150001473\n",
      "b= 1734.9467097501938, c= 15.319354150001493\n",
      "b= 1754.8851847501974, c= 15.494269150001513\n",
      "b= 1774.823659750201, c= 15.669184150001533\n",
      "b= 1794.7621347502045, c= 15.844099150001552\n",
      "b= 1814.700609750208, c= 16.019014150001553\n",
      "b= 1834.6390847502116, c= 16.193929150001395\n",
      "b= 1854.5775597502152, c= 16.368844150001237\n",
      "b= 1874.5160347502188, c= 16.54375915000108\n",
      "b= 1894.4545097502223, c= 16.718674150000922\n",
      "b= 1914.3929847502259, c= 16.893589150000764\n",
      "b= 1934.3314597502294, c= 17.068504150000607\n",
      "b= 1954.269934750233, c= 17.24341915000045\n",
      "b= 1974.2084097502366, c= 17.41833415000029\n"
     ]
    }
   ],
   "source": [
    "alpha=1e-6\n",
    "b=0.1\n",
    "c=0.1\n",
    "B0=0.1\n",
    "B1=0.1\n",
    "n=8\n",
    "zp=np.array([35,45,190,200,40,70,54,150,120,110])\n",
    "ks=np.array([401,574,874,919,459,739,653,902,746,832])\n",
    "X=zp\n",
    "Y=ks\n",
    "\n",
    "for i in range(10000):\n",
    "    b -=alpha*(2/n)*np.sum((B0+B1*X-Y)*X)\n",
    "    c -=alpha*(2/n)*np.sum(B0+B1*X-Y)\n",
    "    if i%100 ==0:\n",
    "        print('b= {b}, c= {c}'.format(b=b,c=c))"
   ]
  },
  {
   "cell_type": "code",
   "execution_count": null,
   "metadata": {},
   "outputs": [],
   "source": []
  },
  {
   "cell_type": "code",
   "execution_count": null,
   "metadata": {},
   "outputs": [],
   "source": []
  }
 ],
 "metadata": {
  "kernelspec": {
   "display_name": "Python 3",
   "language": "python",
   "name": "python3"
  },
  "language_info": {
   "codemirror_mode": {
    "name": "ipython",
    "version": 3
   },
   "file_extension": ".py",
   "mimetype": "text/x-python",
   "name": "python",
   "nbconvert_exporter": "python",
   "pygments_lexer": "ipython3",
   "version": "3.7.3"
  }
 },
 "nbformat": 4,
 "nbformat_minor": 2
}
