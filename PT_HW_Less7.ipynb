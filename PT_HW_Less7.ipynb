{
 "cells": [
  {
   "cell_type": "code",
   "execution_count": null,
   "metadata": {},
   "outputs": [],
   "source": []
  },
  {
   "cell_type": "markdown",
   "metadata": {},
   "source": [
    "   Даны значения величины заработной платы заемщиков банка (zp) и значения их поведенческого кредитного скоринга (ks): zp = [35, 45, 190, 200, 40, 70, 54, 150, 120, 110], ks = [401, 574, 874, 919, 459, 739, 653, 902, 746, 832]. Используя математические операции, посчитать коэффициенты линейной регрессии, приняв за X заработную плату (то есть, zp - признак), а за y - значения скорингового балла (то есть, ks - целевая переменная). Произвести расчет как с использованием intercept, так и без."
   ]
  },
  {
   "cell_type": "code",
   "execution_count": 42,
   "metadata": {},
   "outputs": [],
   "source": [
    "import numpy as np\n",
    "import matplotlib.pyplot as plt\n",
    "%matplotlib inline"
   ]
  },
  {
   "cell_type": "code",
   "execution_count": 43,
   "metadata": {},
   "outputs": [],
   "source": [
    "zp=np.array([35,45,190,200,40,70,54,150,120,110])\n",
    "ks=np.array([401,574,874,919,459,739,653,902,746,832])\n",
    "X=zp\n",
    "Y=ks"
   ]
  },
  {
   "cell_type": "code",
   "execution_count": 44,
   "metadata": {},
   "outputs": [
    {
     "data": {
      "text/plain": [
       "array([ 35,  45, 190, 200,  40,  70,  54, 150, 120, 110])"
      ]
     },
     "execution_count": 44,
     "metadata": {},
     "output_type": "execute_result"
    }
   ],
   "source": [
    "X"
   ]
  },
  {
   "cell_type": "code",
   "execution_count": 45,
   "metadata": {},
   "outputs": [
    {
     "data": {
      "text/plain": [
       "array([401, 574, 874, 919, 459, 739, 653, 902, 746, 832])"
      ]
     },
     "execution_count": 45,
     "metadata": {},
     "output_type": "execute_result"
    }
   ],
   "source": [
    "Y"
   ]
  },
  {
   "cell_type": "markdown",
   "metadata": {},
   "source": [
    " Найдем значение $ {\\overline{y}}$ и ${\\overline{x}}$, используя формулы: $\\overline{x} = \\frac{1}{n} \\sum\\limits_{i=1}^{n} x_i$ и $\\overline{y} = \\frac{1}{n} \\sum\\limits_{i=1}^{n} y_i$\n",
    "Получаем: ${\\overline{x}}=101.4$, $ {\\overline{y}}=709.9$"
   ]
  },
  {
   "cell_type": "code",
   "execution_count": 46,
   "metadata": {},
   "outputs": [
    {
     "data": {
      "text/plain": [
       "101.4"
      ]
     },
     "execution_count": 46,
     "metadata": {},
     "output_type": "execute_result"
    }
   ],
   "source": [
    "X_mean=X.mean()\n",
    "X_mean"
   ]
  },
  {
   "cell_type": "code",
   "execution_count": 47,
   "metadata": {},
   "outputs": [
    {
     "data": {
      "text/plain": [
       "709.9"
      ]
     },
     "execution_count": 47,
     "metadata": {},
     "output_type": "execute_result"
    }
   ],
   "source": [
    "Y_mean=Y.mean()\n",
    "Y_mean"
   ]
  },
  {
   "cell_type": "markdown",
   "metadata": {},
   "source": [
    "Найдем $b$ по формуле $b = \\frac{\\overline{yx} - \\overline{y} \\cdot {\\overline{x}}}{\\overline{x^2} - (\\overline{x})^2};$ получаем: $b = 2.620538882402765$"
   ]
  },
  {
   "cell_type": "code",
   "execution_count": 48,
   "metadata": {},
   "outputs": [
    {
     "data": {
      "text/plain": [
       "2.620538882402765"
      ]
     },
     "execution_count": 48,
     "metadata": {},
     "output_type": "execute_result"
    }
   ],
   "source": [
    "b=((Y*X).mean()-Y_mean*X_mean)/((X**2).mean()-X_mean**2)\n",
    "b"
   ]
  },
  {
   "cell_type": "markdown",
   "metadata": {},
   "source": [
    "Находим $a$ по формуле: $ a = \\overline{y} - b \\cdot {\\overline{x}};$ получаем $ a= 444.1773573243596 $"
   ]
  },
  {
   "cell_type": "code",
   "execution_count": 49,
   "metadata": {},
   "outputs": [
    {
     "data": {
      "text/plain": [
       "444.1773573243596"
      ]
     },
     "execution_count": 49,
     "metadata": {},
     "output_type": "execute_result"
    }
   ],
   "source": [
    "a=Y_mean-b*X_mean\n",
    "a"
   ]
  },
  {
   "cell_type": "code",
   "execution_count": 50,
   "metadata": {},
   "outputs": [
    {
     "data": {
      "text/plain": [
       "array([535.89621821, 562.10160703, 942.07974498, 968.2851338 ,\n",
       "       548.99891262, 627.61507909, 585.68645697, 837.25818968,\n",
       "       758.64202321, 732.43663439])"
      ]
     },
     "execution_count": 50,
     "metadata": {},
     "output_type": "execute_result"
    }
   ],
   "source": [
    "Y_hat=a+b*X\n",
    "Y_hat"
   ]
  },
  {
   "cell_type": "markdown",
   "metadata": {},
   "source": [
    "Построем графики Y и Y_hat"
   ]
  },
  {
   "cell_type": "code",
   "execution_count": 51,
   "metadata": {},
   "outputs": [
    {
     "data": {
      "image/png": "[encoded data removed]",
      "text/plain": [
       "<Figure size 432x288 with 1 Axes>"
      ]
     },
     "metadata": {
      "needs_background": "light"
     },
     "output_type": "display_data"
    }
   ],
   "source": [
    "plt.scatter(X,Y)\n",
    "plt.plot(X,Y_hat)\n",
    "plt.show()"
   ]
  },
  {
   "cell_type": "markdown",
   "metadata": {},
   "source": [
    "Найдем коэффициент корреляции: r и коэффициент детерминации R"
   ]
  },
  {
   "cell_type": "code",
   "execution_count": 54,
   "metadata": {},
   "outputs": [],
   "source": [
    "r= b * np.std(X) / np.std(Y)\n",
    "R=r**2"
   ]
  },
  {
   "cell_type": "code",
   "execution_count": 55,
   "metadata": {},
   "outputs": [
    {
     "data": {
      "text/plain": [
       "0.8874900920739162"
      ]
     },
     "execution_count": 55,
     "metadata": {},
     "output_type": "execute_result"
    }
   ],
   "source": [
    "r"
   ]
  },
  {
   "cell_type": "code",
   "execution_count": 56,
   "metadata": {},
   "outputs": [
    {
     "data": {
      "text/plain": [
       "0.7876386635293682"
      ]
     },
     "execution_count": 56,
     "metadata": {},
     "output_type": "execute_result"
    }
   ],
   "source": [
    "R"
   ]
  },
  {
   "cell_type": "markdown",
   "metadata": {},
   "source": [
    "Посчитать коэффициент линейной регрессии при заработной плате (zp), используя градиентный спуск (без intercept).\n",
    "В каких случаях для вычисления доверительных интервалов и проверки статистических гипотез используется таблица значений функции Лапласа, а в каких - таблица критических точек распределения Стьюдента?"
   ]
  },
  {
   "cell_type": "code",
   "execution_count": 122,
   "metadata": {},
   "outputs": [],
   "source": [
    "alpha=1e-6"
   ]
  },
  {
   "cell_type": "code",
   "execution_count": 123,
   "metadata": {},
   "outputs": [],
   "source": [
    "def mse_ (b, x=X, y=Y, n=len(X)):\n",
    "    return np.sum((b*x-y)**2)/n    "
   ]
  },
  {
   "cell_type": "code",
   "execution_count": 125,
   "metadata": {},
   "outputs": [
    {
     "name": "stdout",
     "output_type": "stream",
     "text": [
      "b={} 0.2994101\n",
      "b={} 5.8898204201326765\n",
      "b={} 5.8898204201326765\n",
      "b={} 5.8898204201326765\n",
      "b={} 5.8898204201326765\n",
      "b={} 5.8898204201326765\n",
      "b={} 5.8898204201326765\n",
      "b={} 5.8898204201326765\n",
      "b={} 5.8898204201326765\n",
      "b={} 5.8898204201326765\n"
     ]
    }
   ],
   "source": [
    "b=0.1\n",
    "n=8\n",
    "for i in range(10000):\n",
    "    b -=alpha*(2/n)*np.sum((b*X-Y)*X)\n",
    "    if i%1000 ==0:\n",
    "        print('b={}', format(b))"
   ]
  },
  {
   "cell_type": "markdown",
   "metadata": {},
   "source": [
    "*. Произвести вычисления как в пункте 2, но с вычислением intercept. Учесть, что изменение коэффициентов должно производиться на каждом шаге одновременно (то есть изменение одного коэффициента не должно влиять на изменение другого во время одной итерации)."
   ]
  },
  {
   "cell_type": "markdown",
   "metadata": {},
   "source": [
    "Представляется следующее решение. Так как имеется два парамета a(B0) и и(B1), то линейная функция получит вид Y_hat=B0+B1*X. Для нахождения каждого из парамеров необходимо найти две производных по B0 и B1 соответственно. Для B1 производная 2/n * (B0+B1*x-y)*x; для B0 производная 2/n * (B0 + B1*x-y)."
   ]
  },
  {
   "cell_type": "code",
   "execution_count": 134,
   "metadata": {},
   "outputs": [
    {
     "name": "stdout",
     "output_type": "stream",
     "text": [
      "Inerat: 0 B0=: 0.1839592 B1=: 9.670468 mse= 253529.50578656566\n",
      "Inerat: 50000 B0=: 347.25189913307054 B1=: 3.3339531078973446 mse= 8853.480475445138\n",
      "Inerat: 100000 B0=: 423.01948526915106 B1=: 2.7762701751616845 mse= 6583.9687060965125\n",
      "Inerat: 150000 B0=: 439.5588024239417 B1=: 2.6545334884502605 mse= 6475.825139901623\n",
      "Inerat: 200000 B0=: 443.1691723182031 B1=: 2.6279595697922735 mse= 6470.67203557879\n",
      "Inerat: 250000 B0=: 443.95728047595793 B1=: 2.6221587453085657 mse= 6470.426487137062\n",
      "Inerat: 300000 B0=: 444.12931671781894 B1=: 2.6208924825068762 mse= 6470.414786609874\n",
      "Inerat: 350000 B0=: 444.1668705335255 B1=: 2.6206160698197816 mse= 6470.4142290729\n",
      "Inerat: 400000 B0=: 444.1750681613003 B1=: 2.6205557316549783 mse= 6470.414202505928\n",
      "Inerat: 450000 B0=: 444.17685762262954 B1=: 2.6205425604284294 mse= 6470.414201239999\n",
      "Inerat: 500000 B0=: 444.1772482443993 B1=: 2.6205396852794998 mse= 6470.414201179679\n",
      "Inerat: 550000 B0=: 444.1773335132781 B1=: 2.620539057662853 mse= 6470.4142011768\n",
      "Inerat: 600000 B0=: 444.1773521266352 B1=: 2.6205389206603154 mse= 6470.41420117667\n",
      "Inerat: 650000 B0=: 444.1773561897479 B1=: 2.620538890754009 mse= 6470.414201176659\n",
      "Inerat: 700000 B0=: 444.17735707668487 B1=: 2.6205388842257613 mse= 6470.414201176658\n"
     ]
    }
   ],
   "source": [
    "def mse_(B0,B1, Y=Y,X=X, n=10):\n",
    "    return np.sum((B0+B1*X-Y)**2)/n\n",
    "\n",
    "zp=np.array([35,45,190,200,40,70,54,150,120,110])\n",
    "ks=np.array([401,574,874,919,459,739,653,902,746,832])\n",
    "X=zp\n",
    "Y=ks\n",
    "alpha=6e-5\n",
    "B0=0.1\n",
    "B1=0.1\n",
    "n=10\n",
    "for i in range (750000):\n",
    "    Y_pred=B0+B1*X\n",
    "    B0 -=alpha*(2/n)*np.sum((Y_pred-Y))\n",
    "    B1 -=alpha*(2/n)*np.sum(((Y_pred-Y)*X))\n",
    " \n",
    "    if i%50000==0:\n",
    "        print ('Inerat:', i, 'B0=:',B0, 'B1=:',B1, 'mse=', mse_(B0,B1))"
   ]
  },
  {
   "cell_type": "code",
   "execution_count": 136,
   "metadata": {},
   "outputs": [
    {
     "data": {
      "image/png": "[encoded data removed]",
      "text/plain": [
       "<Figure size 432x288 with 1 Axes>"
      ]
     },
     "metadata": {
      "needs_background": "light"
     },
     "output_type": "display_data"
    }
   ],
   "source": []
  },
  {
   "cell_type": "code",
   "execution_count": null,
   "metadata": {},
   "outputs": [],
   "source": []
  }
 ],
 "metadata": {
  "kernelspec": {
   "display_name": "Python 3",
   "language": "python",
   "name": "python3"
  },
  "language_info": {
   "codemirror_mode": {
    "name": "ipython",
    "version": 3
   },
   "file_extension": ".py",
   "mimetype": "text/x-python",
   "name": "python",
   "nbconvert_exporter": "python",
   "pygments_lexer": "ipython3",
   "version": "3.7.3"
  }
 },
 "nbformat": 4,
 "nbformat_minor": 2
}
